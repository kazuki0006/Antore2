{
 "cells": [
  {
   "cell_type": "code",
   "execution_count": 30,
   "metadata": {},
   "outputs": [
    {
     "data": {
      "text/html": [
       "<div>\n",
       "<style scoped>\n",
       "    .dataframe tbody tr th:only-of-type {\n",
       "        vertical-align: middle;\n",
       "    }\n",
       "\n",
       "    .dataframe tbody tr th {\n",
       "        vertical-align: top;\n",
       "    }\n",
       "\n",
       "    .dataframe thead th {\n",
       "        text-align: right;\n",
       "    }\n",
       "</style>\n",
       "<table border=\"1\" class=\"dataframe\">\n",
       "  <thead>\n",
       "    <tr style=\"text-align: right;\">\n",
       "      <th></th>\n",
       "      <th>所在地</th>\n",
       "      <th>駅徒歩</th>\n",
       "      <th>間取り</th>\n",
       "      <th>築年数</th>\n",
       "      <th>向き</th>\n",
       "    </tr>\n",
       "  </thead>\n",
       "  <tbody>\n",
       "    <tr>\n",
       "      <th>0</th>\n",
       "      <td>東京都新宿区西早稲田２</td>\n",
       "      <td>東京メトロ東西線/早稲田駅 歩6分\\n東京メトロ副都心線/西早稲田駅 歩9分\\n都電荒川線/...</td>\n",
       "      <td>1LDK</td>\n",
       "      <td>築4年</td>\n",
       "      <td>東</td>\n",
       "    </tr>\n",
       "  </tbody>\n",
       "</table>\n",
       "</div>"
      ],
      "text/plain": [
       "           所在地                                                駅徒歩   間取り  築年数   \n",
       "0  東京都新宿区西早稲田２  東京メトロ東西線/早稲田駅 歩6分\\n東京メトロ副都心線/西早稲田駅 歩9分\\n都電荒川線/...  1LDK  築4年  \\\n",
       "\n",
       "  向き  \n",
       "0  東  "
      ]
     },
     "execution_count": 30,
     "metadata": {},
     "output_type": "execute_result"
    }
   ],
   "source": [
    "import requests\n",
    "from bs4 import BeautifulSoup\n",
    "import pandas as pd\n",
    "\n",
    "url = input('物件のURLを入力: ')\n",
    "response = requests.get(url)\n",
    "soup = BeautifulSoup(response.text, 'html.parser')\n",
    "\n",
    "data = {}\n",
    "\n",
    "# データを特定のセレクタを使って取得\n",
    "rows = soup.find_all('tr')\n",
    "for row in rows:\n",
    "    key = row.find('th', class_='property_view_table-title')\n",
    "    value = row.find('td', class_='property_view_table-body')\n",
    "    if key and value:\n",
    "        key = key.text.strip()\n",
    "        value = value.text.strip()\n",
    "        data[key] = value\n",
    "\n",
    "# 結果をデータフレームに格納\n",
    "df = pd.DataFrame(data, index=[0])\n",
    "\n",
    "df"
   ]
  }
 ],
 "metadata": {
  "kernelspec": {
   "display_name": "Python 3",
   "language": "python",
   "name": "python3"
  },
  "language_info": {
   "codemirror_mode": {
    "name": "ipython",
    "version": 3
   },
   "file_extension": ".py",
   "mimetype": "text/x-python",
   "name": "python",
   "nbconvert_exporter": "python",
   "pygments_lexer": "ipython3",
   "version": "3.11.3"
  },
  "orig_nbformat": 4
 },
 "nbformat": 4,
 "nbformat_minor": 2
}
